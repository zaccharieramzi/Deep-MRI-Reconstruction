{
 "cells": [
  {
   "cell_type": "code",
   "execution_count": 1,
   "metadata": {},
   "outputs": [
    {
     "name": "stdout",
     "output_type": "stream",
     "text": [
      "/volatile/home/Zaccharie/workspace/Deep-MRI-Reconstruction\n"
     ]
    }
   ],
   "source": [
    "%cd .."
   ]
  },
  {
   "cell_type": "code",
   "execution_count": 2,
   "metadata": {},
   "outputs": [
    {
     "ename": "ModuleNotFoundError",
     "evalue": "No module named 'cascade_net_pytorch'",
     "output_type": "error",
     "traceback": [
      "\u001b[0;31m---------------------------------------------------------------------------\u001b[0m",
      "\u001b[0;31mModuleNotFoundError\u001b[0m                       Traceback (most recent call last)",
      "\u001b[0;32m<ipython-input-2-48045f9d6603>\u001b[0m in \u001b[0;36m<module>\u001b[0;34m\u001b[0m\n\u001b[0;32m----> 1\u001b[0;31m \u001b[0;32mfrom\u001b[0m \u001b[0mcascade_net_pytorch\u001b[0m\u001b[0;34m.\u001b[0m\u001b[0mmodel_pytorch\u001b[0m \u001b[0;32mimport\u001b[0m \u001b[0mDnCn\u001b[0m\u001b[0;34m\u001b[0m\u001b[0;34m\u001b[0m\u001b[0m\n\u001b[0m",
      "\u001b[0;31mModuleNotFoundError\u001b[0m: No module named 'cascade_net_pytorch'"
     ]
    }
   ],
   "source": [
    "from cascadenet_pytorch.model_pytorch import DnCn\n",
    "from data_torch import MaskedUntouched2DDataset, MaskedUntouched2DAllLoadedDataset\n",
    "from torch_training import fit_torch, torch_psnr"
   ]
  },
  {
   "cell_type": "code",
   "execution_count": 3,
   "metadata": {},
   "outputs": [],
   "source": [
    "# paths\n",
    "train_path = '/media/Zaccharie/UHRes/singlecoil_train/singlecoil_train/'\n",
    "val_path = '/media/Zaccharie/UHRes/singlecoil_val/'\n",
    "test_path = '/media/Zaccharie/UHRes/singlecoil_test/'\n",
    "\n",
    "n_samples_train = 34742\n",
    "n_samples_val = 7135\n",
    "\n",
    "n_volumes_train = 973\n",
    "n_volumes_val = 199"
   ]
  },
  {
   "cell_type": "code",
   "execution_count": 4,
   "metadata": {},
   "outputs": [
    {
     "ename": "NameError",
     "evalue": "name 'MaskedUntouched2DDataset' is not defined",
     "output_type": "error",
     "traceback": [
      "\u001b[0;31m---------------------------------------------------------------------------\u001b[0m",
      "\u001b[0;31mNameError\u001b[0m                                 Traceback (most recent call last)",
      "\u001b[0;32m<ipython-input-4-f2e06be0fd7c>\u001b[0m in \u001b[0;36m<module>\u001b[0;34m\u001b[0m\n\u001b[1;32m      3\u001b[0m \u001b[0mAF\u001b[0m \u001b[0;34m=\u001b[0m \u001b[0;36m4\u001b[0m\u001b[0;34m\u001b[0m\u001b[0;34m\u001b[0m\u001b[0m\n\u001b[1;32m      4\u001b[0m \u001b[0;31m# train_gen = MaskedUntouched2DAllLoadedDataset(train_path, af=AF, inner_slices=1)\u001b[0m\u001b[0;34m\u001b[0m\u001b[0;34m\u001b[0m\u001b[0;34m\u001b[0m\u001b[0m\n\u001b[0;32m----> 5\u001b[0;31m \u001b[0mtrain_gen\u001b[0m \u001b[0;34m=\u001b[0m \u001b[0mMaskedUntouched2DDataset\u001b[0m\u001b[0;34m(\u001b[0m\u001b[0mtrain_path\u001b[0m\u001b[0;34m,\u001b[0m \u001b[0maf\u001b[0m\u001b[0;34m=\u001b[0m\u001b[0mAF\u001b[0m\u001b[0;34m,\u001b[0m \u001b[0minner_slices\u001b[0m\u001b[0;34m=\u001b[0m\u001b[0;36m1\u001b[0m\u001b[0;34m)\u001b[0m\u001b[0;34m\u001b[0m\u001b[0;34m\u001b[0m\u001b[0m\n\u001b[0m\u001b[1;32m      6\u001b[0m \u001b[0mval_gen\u001b[0m \u001b[0;34m=\u001b[0m \u001b[0mMaskedUntouched2DDataset\u001b[0m\u001b[0;34m(\u001b[0m\u001b[0mval_path\u001b[0m\u001b[0;34m,\u001b[0m \u001b[0maf\u001b[0m\u001b[0;34m=\u001b[0m\u001b[0mAF\u001b[0m\u001b[0;34m)\u001b[0m\u001b[0;34m\u001b[0m\u001b[0;34m\u001b[0m\u001b[0m\n\u001b[1;32m      7\u001b[0m train_loader = DataLoader(\n",
      "\u001b[0;31mNameError\u001b[0m: name 'MaskedUntouched2DDataset' is not defined"
     ]
    }
   ],
   "source": [
    "# data loader\n",
    "# generators\n",
    "AF = 4\n",
    "# train_gen = MaskedUntouched2DAllLoadedDataset(train_path, af=AF, inner_slices=1)\n",
    "train_gen = MaskedUntouched2DDataset(train_path, af=AF, inner_slices=1)\n",
    "val_gen = MaskedUntouched2DDataset(val_path, af=AF)\n",
    "train_loader = DataLoader(\n",
    "    dataset=train_gen,\n",
    "    batch_size=1,\n",
    "    shuffle=False,\n",
    "    num_workers=35,\n",
    "    pin_memory=True,\n",
    ")\n",
    "val_loader = DataLoader(\n",
    "    dataset=val_gen,\n",
    "    batch_size=1,\n",
    "    num_workers=35,\n",
    "    pin_memory=True,\n",
    ")"
   ]
  },
  {
   "cell_type": "code",
   "execution_count": null,
   "metadata": {},
   "outputs": [],
   "source": [
    "run_params = {\n",
    "    'n_cascade': 5,\n",
    "    'n_convs': 5,\n",
    "    'n_filters': 64,\n",
    "}\n",
    "n_epochs = 100\n",
    "run_id = f'cascadenet_orig_torch_af{AF}_{int(time.time())}'\n",
    "chkpt_path = f'checkpoints/{run_id}' + '-{epoch:02d}.hdf5'\n",
    "log_dir = op.join('logs', run_id)\n",
    "print(run_id)"
   ]
  },
  {
   "cell_type": "code",
   "execution_count": null,
   "metadata": {},
   "outputs": [],
   "source": [
    "model = CascadeNet(**run_params)\n",
    "optimizer = Adam(model.parameters(), lr=1e-3)\n",
    "writer = SummaryWriter(log_dir=log_dir)\n",
    "\n",
    "model.cuda();"
   ]
  },
  {
   "cell_type": "code",
   "execution_count": null,
   "metadata": {},
   "outputs": [],
   "source": [
    "def overfit_epoch(model, data, optimizer, device):\n",
    "    model.train()\n",
    "    kspace, mask, image_gt = data\n",
    "    kspace = kspace[0]\n",
    "    mask = mask[0]\n",
    "    image_gt = image_gt[0]\n",
    "    kspace = kspace.to(device)\n",
    "    mask = mask.to(device)\n",
    "    image_gt = image_gt.to(device)\n",
    "    image_pred = model(kspace, mask)\n",
    "\n",
    "\n",
    "    loss = F.l1_loss(image_pred, image_gt)\n",
    "    optimizer.zero_grad()\n",
    "    loss.backward()\n",
    "    optimizer.step()\n",
    "    psnr = torch_psnr(image_pred, image_gt)\n",
    "    print('Training PSNR:', psnr)"
   ]
  },
  {
   "cell_type": "code",
   "execution_count": null,
   "metadata": {},
   "outputs": [],
   "source": [
    "%%time\n",
    "i, data = next(enumerate(train_loader))\n",
    "for _ in tqdm_notebook(range(500)):\n",
    "    overfit_epoch(model, data, optimizer, 'cuda')"
   ]
  }
 ],
 "metadata": {
  "kernelspec": {
   "display_name": "Python 3",
   "language": "python",
   "name": "python3"
  },
  "language_info": {
   "codemirror_mode": {
    "name": "ipython",
    "version": 3
   },
   "file_extension": ".py",
   "mimetype": "text/x-python",
   "name": "python",
   "nbconvert_exporter": "python",
   "pygments_lexer": "ipython3",
   "version": "3.6.8"
  }
 },
 "nbformat": 4,
 "nbformat_minor": 2
}
